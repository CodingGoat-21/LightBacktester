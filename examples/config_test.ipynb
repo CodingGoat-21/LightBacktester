{
 "cells": [
  {
   "cell_type": "code",
   "execution_count": 1,
   "metadata": {},
   "outputs": [],
   "source": [
    "from datetime import datetime\n",
    "class Config:\n",
    "    fromdate = datetime(2016, 1, 1) \n",
    "    todate = datetime(2022, 6, 17) \n",
    "\n",
    "    startcash = 1000000000  # start cash\n",
    "    mult = 1\n",
    "    margin = 1\n",
    "    commission = 0.0002 "
   ]
  },
  {
   "cell_type": "code",
   "execution_count": 6,
   "metadata": {},
   "outputs": [],
   "source": [
    "class myConfig(Config):\n",
    "    # def __init__(self):\n",
    "    #     super(myConfig, self).__init__()\n",
    "    rebal_monthday=[30]  # portfolios rebalance date for each period\n",
    "    data_frequency=252 # input data frequency # control holding position weight\n",
    "    indicator_period=252  # period for indicator calculation\n",
    "    \n",
    "    mult = 1\n",
    "    # margin = 2"
   ]
  },
  {
   "cell_type": "code",
   "execution_count": 13,
   "metadata": {},
   "outputs": [
    {
     "data": {
      "text/plain": [
       "(('commission', 0.0002),\n",
       " ('data_frequency', 252),\n",
       " ('fromdate', datetime.datetime(2016, 1, 1, 0, 0)),\n",
       " ('indicator_period', 252),\n",
       " ('margin', 1),\n",
       " ('mult', 1),\n",
       " ('rebal_monthday', [30]),\n",
       " ('startcash', 1000000000),\n",
       " ('todate', datetime.datetime(2022, 6, 17, 0, 0)))"
      ]
     },
     "execution_count": 13,
     "metadata": {},
     "output_type": "execute_result"
    }
   ],
   "source": [
    "my = myConfig()\n",
    "all_params = []\n",
    "for attr in dir(my):\n",
    "    if not attr.endswith('__'):\n",
    "        all_params.append((attr, getattr(my, attr)))\n",
    "all_params = tuple(all_params)\n",
    "all_params"
   ]
  },
  {
   "cell_type": "code",
   "execution_count": null,
   "metadata": {},
   "outputs": [],
   "source": []
  }
 ],
 "metadata": {
  "kernelspec": {
   "display_name": "Python 3.7.13 ('quant4all')",
   "language": "python",
   "name": "python3"
  },
  "language_info": {
   "codemirror_mode": {
    "name": "ipython",
    "version": 3
   },
   "file_extension": ".py",
   "mimetype": "text/x-python",
   "name": "python",
   "nbconvert_exporter": "python",
   "pygments_lexer": "ipython3",
   "version": "3.7.13"
  },
  "orig_nbformat": 4,
  "vscode": {
   "interpreter": {
    "hash": "de308d68ab5fc151c6e770b50dd4e8099de2230bdaf8602c205f9ab917ae6cd8"
   }
  }
 },
 "nbformat": 4,
 "nbformat_minor": 2
}
